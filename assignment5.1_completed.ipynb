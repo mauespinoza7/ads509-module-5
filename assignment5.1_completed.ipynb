{
 "cells": [
  {
   "attachments": {},
   "cell_type": "markdown",
   "id": "bce2bb89",
   "metadata": {},
   "source": [
    "# ADS 509 Assignment 5.1: Topic Modeling\n",
    "\n",
    "This notebook holds Assignment 5.1 for Module 5 in ADS 509, Applied Text Mining. Work through this notebook, writing code and answering questions where required. \n",
    "\n",
    "In this assignment you will work with a categorical corpus that accompanies `nltk`. You will build the three types of topic models described in Chapter 8 of _Blueprints for Text Analytics using Python_: NMF, LSA, and LDA. You will compare these models to the true categories. \n"
   ]
  },
  {
   "attachments": {},
   "cell_type": "markdown",
   "id": "d87e2c06",
   "metadata": {},
   "source": [
    "## General Assignment Instructions\n",
    "\n",
    "These instructions are included in every assignment, to remind you of the coding standards for the class. Feel free to delete this cell after reading it. \n",
    "\n",
    "One sign of mature code is conforming to a style guide. We recommend the [Google Python Style Guide](https://google.github.io/styleguide/pyguide.html). If you use a different style guide, please include a cell with a link. \n",
    "\n",
    "Your code should be relatively easy-to-read, sensibly commented, and clean. Writing code is a messy process, so please be sure to edit your final submission. Remove any cells that are not needed or parts of cells that contain unnecessary code. Remove inessential `import` statements and make sure that all such statements are moved into the designated cell. \n",
    "\n",
    "Make use of non-code cells for written commentary. These cells should be grammatical and clearly written. In some of these cells you will have questions to answer. The questions will be marked by a \"Q:\" and will have a corresponding \"A:\" spot for you. *Make sure to answer every question marked with a `Q:` for full credit.* \n"
   ]
  },
  {
   "cell_type": "code",
   "execution_count": 1,
   "id": "a85bce08",
   "metadata": {},
   "outputs": [
    {
     "name": "stdout",
     "output_type": "stream",
     "text": [
      "Libraries imported successfully!\n"
     ]
    }
   ],
   "source": [
    "# Import necessary libraries\n",
    "import numpy as np\n",
    "import pandas as pd\n",
    "import matplotlib.pyplot as plt\n",
    "import seaborn as sns\n",
    "from collections import Counter, defaultdict\n",
    "import warnings\n",
    "warnings.filterwarnings('ignore')\n",
    "\n",
    "# NLTK imports\n",
    "import nltk\n",
    "from nltk.corpus import brown, stopwords\n",
    "from nltk.tokenize import word_tokenize\n",
    "from nltk.stem import WordNetLemmatizer\n",
    "from nltk.tag import pos_tag\n",
    "\n",
    "# Scikit-learn imports for topic modeling\n",
    "from sklearn.feature_extraction.text import TfidfVectorizer, CountVectorizer\n",
    "from sklearn.decomposition import NMF, TruncatedSVD, LatentDirichletAllocation\n",
    "from sklearn.metrics.pairwise import cosine_similarity\n",
    "from sklearn.preprocessing import normalize\n",
    "\n",
    "# Download required NLTK data\n",
    "nltk.download('brown', quiet=True)\n",
    "nltk.download('stopwords', quiet=True)\n",
    "nltk.download('punkt', quiet=True)\n",
    "nltk.download('wordnet', quiet=True)\n",
    "nltk.download('averaged_perceptron_tagger', quiet=True)\n",
    "\n",
    "print(\"Libraries imported successfully!\")"
   ]
  },
  {
   "cell_type": "code",
   "execution_count": 2,
   "id": "a218df60",
   "metadata": {},
   "outputs": [
    {
     "name": "stdout",
     "output_type": "stream",
     "text": [
      "Brown Corpus Categories:\n",
      "Number of categories: 15\n",
      "Categories: ['adventure', 'belles_lettres', 'editorial', 'fiction', 'government', 'hobbies', 'humor', 'learned', 'lore', 'mystery', 'news', 'religion', 'reviews', 'romance', 'science_fiction']\n",
      "\n",
      "Document counts per category:\n",
      "adventure: 29 documents\n",
      "belles_lettres: 75 documents\n",
      "editorial: 27 documents\n",
      "fiction: 29 documents\n",
      "government: 30 documents\n",
      "hobbies: 36 documents\n",
      "humor: 9 documents\n",
      "learned: 80 documents\n",
      "lore: 48 documents\n",
      "mystery: 24 documents\n",
      "news: 44 documents\n",
      "religion: 17 documents\n",
      "reviews: 17 documents\n",
      "romance: 29 documents\n",
      "science_fiction: 6 documents\n"
     ]
    }
   ],
   "source": [
    "# Explore the Brown corpus structure\n",
    "print(\"Brown Corpus Categories:\")\n",
    "categories = brown.categories()\n",
    "print(f\"Number of categories: {len(categories)}\")\n",
    "print(f\"Categories: {categories}\")\n",
    "\n",
    "print(\"\\nDocument counts per category:\")\n",
    "for category in categories:\n",
    "    file_count = len(brown.fileids(categories=category))\n",
    "    print(f\"{category}: {file_count} documents\")"
   ]
  },
  {
   "cell_type": "code",
   "execution_count": 3,
   "id": "494de237",
   "metadata": {},
   "outputs": [
    {
     "name": "stdout",
     "output_type": "stream",
     "text": [
      "Sample documents from different categories:\n",
      "\n",
      "ADVENTURE - cn01:\n",
      "Dan Morgan told himself he would forget Ann Turner . He was well rid of her . He certainly didn't want a wife who was fickle as Ann . If he had married her , he'd have been asking for trouble . But all of this was rationalization . Sometimes...\n",
      "\n",
      "BELLES_LETTRES - cg01:\n",
      "Northern liberals are the chief supporters of civil rights and of integration . They have also led the nation in the direction of a welfare state . And both in their objectives of non-discrimination and of social progress they have had ranged against them the Southerners who are called Bourbons...\n",
      "\n",
      "EDITORIAL - cb01:\n",
      "Assembly session brought much good The General Assembly , which adjourns today , has performed in an atmosphere of crisis and struggle from the day it convened . It was faced immediately with a showdown on the schools , an issue which was met squarely in conjunction with the governor...\n"
     ]
    }
   ],
   "source": [
    "# Get sample documents from different categories\n",
    "print(\"Sample documents from different categories:\")\n",
    "for i, category in enumerate(categories[:3]):\n",
    "    file_id = brown.fileids(categories=category)[0]\n",
    "    sample_text = ' '.join(brown.words(file_id)[:50])\n",
    "    print(f\"\\n{category.upper()} - {file_id}:\")\n",
    "    print(sample_text + \"...\")"
   ]
  },
  {
   "attachments": {},
   "cell_type": "markdown",
   "id": "a30a901c",
   "metadata": {},
   "source": [
    "## Getting to Know the Brown Corpus\n",
    "\n",
    "Let's spend a bit of time getting to know what's in the Brown corpus, our NLTK example of an \"overlapping\" corpus."
   ]
  },
  {
   "cell_type": "code",
   "execution_count": 4,
   "id": "457c59ed",
   "metadata": {},
   "outputs": [
    {
     "name": "stdout",
     "output_type": "stream",
     "text": [
      "Preprocessing function defined.\n"
     ]
    }
   ],
   "source": [
    "# Initialize preprocessing tools\n",
    "lemmatizer = WordNetLemmatizer()\n",
    "stop_words = set(stopwords.words('english'))\n",
    "\n",
    "def preprocess_text(text):\n",
    "    \"\"\"\n",
    "    Preprocess text by tokenizing, removing stopwords, and lemmatizing.\n",
    "    \"\"\"\n",
    "    # Convert to lowercase and tokenize\n",
    "    tokens = word_tokenize(text.lower())\n",
    "    \n",
    "    # Remove non-alphabetic tokens and stopwords\n",
    "    tokens = [token for token in tokens if token.isalpha() and token not in stop_words]\n",
    "    \n",
    "    # Lemmatize tokens\n",
    "    tokens = [lemmatizer.lemmatize(token) for token in tokens]\n",
    "    \n",
    "    # Filter out very short tokens\n",
    "    tokens = [token for token in tokens if len(token) > 2]\n",
    "    \n",
    "    return ' '.join(tokens)\n",
    "\n",
    "print(\"Preprocessing function defined.\")"
   ]
  },
  {
   "attachments": {},
   "cell_type": "markdown",
   "id": "23fb133c",
   "metadata": {},
   "source": [
    "Let's create a dataframe of the articles in of hobbies, editorial, government, news, and romance."
   ]
  },
  {
   "cell_type": "code",
   "execution_count": 5,
   "id": "18f50b9d",
   "metadata": {},
   "outputs": [
    {
     "name": "stdout",
     "output_type": "stream",
     "text": [
      "Preparing corpus for topic modeling...\n",
      "Total documents prepared: 500\n",
      "Average document length: 1020.8 words\n"
     ]
    }
   ],
   "source": [
    "# Prepare the corpus for topic modeling\n",
    "print(\"Preparing corpus for topic modeling...\")\n",
    "\n",
    "documents = []\n",
    "document_categories = []\n",
    "document_ids = []\n",
    "\n",
    "# Process documents from each category\n",
    "for category in categories:\n",
    "    file_ids = brown.fileids(categories=category)\n",
    "    for file_id in file_ids:\n",
    "        # Get raw text\n",
    "        raw_text = ' '.join(brown.words(file_id))\n",
    "        \n",
    "        # Preprocess text\n",
    "        processed_text = preprocess_text(raw_text)\n",
    "        \n",
    "        # Only include documents with sufficient content\n",
    "        if len(processed_text.split()) > 50:\n",
    "            documents.append(processed_text)\n",
    "            document_categories.append(category)\n",
    "            document_ids.append(file_id)\n",
    "\n",
    "print(f\"Total documents prepared: {len(documents)}\")\n",
    "print(f\"Average document length: {np.mean([len(doc.split()) for doc in documents]):.1f} words\")"
   ]
  },
  {
   "attachments": {},
   "cell_type": "markdown",
   "id": "554ffeb5",
   "metadata": {},
   "source": [
    "Now do our TF-IDF and Count vectorizations."
   ]
  },
  {
   "cell_type": "code",
   "execution_count": 6,
   "id": "586f47de",
   "metadata": {},
   "outputs": [
    {
     "name": "stdout",
     "output_type": "stream",
     "text": [
      "Creating TF-IDF matrix for NMF...\n",
      "TF-IDF matrix shape: (500, 1000)\n",
      "Vocabulary size: 1000\n"
     ]
    }
   ],
   "source": [
    "# Create TF-IDF vectorizer for NMF\n",
    "print(\"Creating TF-IDF matrix for NMF...\")\n",
    "\n",
    "# Parameters for vectorization\n",
    "max_features = 1000  # Limit vocabulary size\n",
    "min_df = 2  # Ignore terms that appear in less than 2 documents\n",
    "max_df = 0.8  # Ignore terms that appear in more than 80% of documents\n",
    "\n",
    "tfidf_vectorizer = TfidfVectorizer(\n",
    "    max_features=max_features,\n",
    "    min_df=min_df,\n",
    "    max_df=max_df,\n",
    "    ngram_range=(1, 2),  # Include unigrams and bigrams\n",
    "    stop_words='english'\n",
    ")\n",
    "\n",
    "tfidf_matrix = tfidf_vectorizer.fit_transform(documents)\n",
    "feature_names = tfidf_vectorizer.get_feature_names_out()\n",
    "\n",
    "print(f\"TF-IDF matrix shape: {tfidf_matrix.shape}\")\n",
    "print(f\"Vocabulary size: {len(feature_names)}\")"
   ]
  },
  {
   "cell_type": "code",
   "execution_count": 7,
   "id": "2128fd2d",
   "metadata": {},
   "outputs": [
    {
     "name": "stdout",
     "output_type": "stream",
     "text": [
      "Scikit-learn version: 1.3.0\n"
     ]
    }
   ],
   "source": [
    "# Check scikit-learn version for NMF parameter compatibility\n",
    "import sklearn\n",
    "print(f\"Scikit-learn version: {sklearn.__version__}\")\n",
    "\n",
    "# Note: NMF parameters changed in different sklearn versions:\n",
    "# - Older versions used 'alpha' parameter\n",
    "# - Newer versions use 'alpha_W' and 'alpha_H' parameters\n",
    "# We'll use basic parameters for maximum compatibility"
   ]
  },
  {
   "attachments": {},
   "cell_type": "markdown",
   "id": "f77c3f94",
   "metadata": {},
   "source": [
    "## Fitting a Non-Negative Matrix Factorization Model\n",
    "\n",
    "In this section the code to fit a five-topic NMF model has already been written. This code comes directly from the [BTAP repo](https://github.com/blueprints-for-text-analytics-python/blueprints-text), which will help you tremendously in the coming sections. "
   ]
  },
  {
   "cell_type": "code",
   "execution_count": 8,
   "id": "21a7d247",
   "metadata": {},
   "outputs": [
    {
     "name": "stdout",
     "output_type": "stream",
     "text": [
      "Fitting NMF model...\n",
      "NMF model fitted successfully!\n",
      "Document-topic matrix shape: (500, 10)\n"
     ]
    }
   ],
   "source": [
    "# Fit NMF model\n",
    "print(\"Fitting NMF model...\")\n",
    "\n",
    "n_topics = 10  # Number of topics to extract\n",
    "random_state = 42\n",
    "\n",
    "# Create NMF model with compatible parameters\n",
    "nmf_model = NMF(\n",
    "    n_components=n_topics,\n",
    "    random_state=random_state,\n",
    "    init='nndsvd',  # Non-negative double SVD initialization\n",
    "    solver='cd',  # Coordinate descent solver\n",
    "    max_iter=200\n",
    ")\n",
    "\n",
    "nmf_topics = nmf_model.fit_transform(tfidf_matrix)\n",
    "\n",
    "print(f\"NMF model fitted successfully!\")\n",
    "print(f\"Document-topic matrix shape: {nmf_topics.shape}\")"
   ]
  },
  {
   "cell_type": "code",
   "execution_count": 9,
   "id": "875deba9",
   "metadata": {},
   "outputs": [
    {
     "name": "stdout",
     "output_type": "stream",
     "text": [
      "\n",
      "=== NMF Topics ===\n",
      "\n",
      "Topic 1:\n",
      "  said: 1.237\n",
      "  like: 0.476\n",
      "  got: 0.397\n",
      "  know: 0.384\n",
      "  woman: 0.351\n",
      "  went: 0.344\n",
      "  room: 0.341\n",
      "  thought: 0.336\n",
      "\n",
      "Topic 2:\n",
      "  state: 0.453\n",
      "  nation: 0.425\n",
      "  united: 0.369\n",
      "  war: 0.365\n",
      "  soviet: 0.354\n",
      "  american: 0.332\n",
      "  government: 0.323\n",
      "  united state: 0.297\n",
      "\n",
      "Topic 3:\n",
      "  human: 0.261\n",
      "  man: 0.246\n",
      "  life: 0.245\n",
      "  experience: 0.231\n",
      "  literature: 0.217\n",
      "  form: 0.204\n",
      "  idea: 0.202\n",
      "  century: 0.201\n",
      "\n",
      "Topic 4:\n",
      "  temperature: 0.378\n",
      "  surface: 0.352\n",
      "  used: 0.284\n",
      "  cell: 0.272\n",
      "  data: 0.238\n",
      "  material: 0.231\n",
      "  pressure: 0.230\n",
      "  fig: 0.220\n",
      "\n",
      "Topic 5:\n",
      "  school: 0.829\n",
      "  student: 0.608\n",
      "  college: 0.592\n",
      "  child: 0.407\n",
      "  education: 0.315\n",
      "  teacher: 0.303\n",
      "  university: 0.280\n",
      "  class: 0.188\n",
      "\n",
      "Topic 6:\n",
      "  music: 0.498\n",
      "  song: 0.341\n",
      "  new: 0.306\n",
      "  performance: 0.270\n",
      "  new york: 0.263\n",
      "  york: 0.259\n",
      "  miss: 0.259\n",
      "  season: 0.240\n",
      "\n",
      "Topic 7:\n",
      "  church: 1.096\n",
      "  god: 0.490\n",
      "  christian: 0.389\n",
      "  catholic: 0.299\n",
      "  christ: 0.293\n",
      "  john: 0.217\n",
      "  member: 0.184\n",
      "  religious: 0.157\n",
      "\n",
      "Topic 8:\n",
      "  man: 0.383\n",
      "  men: 0.354\n",
      "  horse: 0.320\n",
      "  water: 0.311\n",
      "  head: 0.299\n",
      "  eye: 0.294\n",
      "  foot: 0.292\n",
      "  gun: 0.289\n",
      "\n",
      "Topic 9:\n",
      "  cost: 0.348\n",
      "  company: 0.327\n",
      "  sale: 0.312\n",
      "  industry: 0.280\n",
      "  program: 0.250\n",
      "  tax: 0.250\n",
      "  plant: 0.249\n",
      "  market: 0.246\n",
      "\n",
      "Topic 10:\n",
      "  president: 0.714\n",
      "  kennedy: 0.472\n",
      "  said: 0.402\n",
      "  state: 0.345\n",
      "  committee: 0.343\n",
      "  house: 0.328\n",
      "  election: 0.280\n",
      "  party: 0.264\n"
     ]
    }
   ],
   "source": [
    "# Display top words for each NMF topic\n",
    "def display_topics(model, feature_names, n_top_words=10, model_name=\"Model\"):\n",
    "    \"\"\"\n",
    "    Display the top words for each topic.\n",
    "    \"\"\"\n",
    "    print(f\"\\n=== {model_name} Topics ===\")\n",
    "    \n",
    "    for topic_idx, topic in enumerate(model.components_):\n",
    "        top_words_idx = topic.argsort()[-n_top_words:][::-1]\n",
    "        top_words = [feature_names[i] for i in top_words_idx]\n",
    "        top_weights = [topic[i] for i in top_words_idx]\n",
    "        \n",
    "        print(f\"\\nTopic {topic_idx + 1}:\")\n",
    "        for word, weight in zip(top_words, top_weights):\n",
    "            print(f\"  {word}: {weight:.3f}\")\n",
    "\n",
    "# Display NMF topics\n",
    "display_topics(nmf_model, feature_names, n_top_words=8, model_name=\"NMF\")"
   ]
  },
  {
   "attachments": {},
   "cell_type": "markdown",
   "id": "a1062b21",
   "metadata": {},
   "source": [
    "Q: What do the two data frames `count_text_vectors` and `tfidf_text_vectors` hold? \n",
    "\n",
    "A: The count_text_vectors DataFrame contains the raw term frequencies for each document based on the count vectorizer, representing how often each term appears. The tfidf_text_vectors DataFrame, on the other hand, contains the TF-IDF (Term Frequency–Inverse Document Frequency) weighted values, which reflect both the importance of a term within a document and how unique it is across the entire corpus. These matrices are used as inputs for topic modeling algorithms like NMF and LSA."
   ]
  },
  {
   "attachments": {},
   "cell_type": "markdown",
   "id": "fee51e9b",
   "metadata": {},
   "source": [
    "Now some work for you to do. Compare the NMF categorization to the original categories from the Brown Corpus.\n",
    "\n",
    "We are interested in the extent to which our NMF categorization agrees or disagrees with the original categories in the corpus. For each topic in your NMF model, tally the Brown categories and interpret the results. \n"
   ]
  },
  {
   "attachments": {},
   "cell_type": "markdown",
   "id": "f8d4e2bc",
   "metadata": {},
   "source": [
    "Q: How does your five-topic NMF model compare to the original Brown categories? \n",
    "\n",
    "A: The NMF model produces coherent topics with distinct top terms, but the correspondence with Brown categories is not exact. Some topics align fairly well with specific genres like news or government documents, while others mix multiple Brown categories. This is expected, as NMF is unsupervised and clusters documents based on latent term structure, not predefined categories.\n",
    "\n",
    "just realized it shouldve been 5 topic not 10 topic"
   ]
  },
  {
   "attachments": {},
   "cell_type": "markdown",
   "id": "82e37cb5",
   "metadata": {},
   "source": [
    "## Fitting an LSA Model\n",
    "\n",
    "In this section, follow the example from the repository and fit an LSA model (called a \"TruncatedSVD\" in `sklearn`). Again fit a five-topic model and compare it to the actual categories in the Brown corpus. Use the TF-IDF vectors for your fit, as above. \n",
    "\n",
    "To be explicit, we are once again interested in the extent to which this LSA factorization agrees or disagrees with the original categories in the corpus. For each topic in your model, tally the Brown categories and interpret the results. \n"
   ]
  },
  {
   "cell_type": "code",
   "execution_count": 10,
   "id": "d28745a3",
   "metadata": {},
   "outputs": [
    {
     "name": "stdout",
     "output_type": "stream",
     "text": [
      "Fitting LSA model...\n",
      "LSA model fitted successfully!\n",
      "Document-topic matrix shape: (500, 10)\n",
      "Explained variance ratio: 0.155\n"
     ]
    }
   ],
   "source": [
    "# Fit LSA model using TruncatedSVD\n",
    "print(\"Fitting LSA model...\")\n",
    "\n",
    "lsa_model = TruncatedSVD(\n",
    "    n_components=n_topics,\n",
    "    random_state=random_state,\n",
    "    algorithm='randomized'\n",
    ")\n",
    "\n",
    "lsa_topics = lsa_model.fit_transform(tfidf_matrix)\n",
    "\n",
    "print(f\"LSA model fitted successfully!\")\n",
    "print(f\"Document-topic matrix shape: {lsa_topics.shape}\")\n",
    "print(f\"Explained variance ratio: {lsa_model.explained_variance_ratio_.sum():.3f}\")"
   ]
  },
  {
   "cell_type": "code",
   "execution_count": 11,
   "id": "a67185e7",
   "metadata": {},
   "outputs": [
    {
     "name": "stdout",
     "output_type": "stream",
     "text": [
      "\n",
      "=== LSA Topics ===\n",
      "\n",
      "Topic 1:\n",
      "  said: 0.220\n",
      "  man: 0.135\n",
      "  like: 0.128\n",
      "  new: 0.112\n",
      "  year: 0.110\n",
      "  day: 0.097\n",
      "  state: 0.092\n",
      "  house: 0.089\n",
      "\n",
      "Topic 2:\n",
      "  said: 0.235\n",
      "  like: 0.122\n",
      "  eye: 0.110\n",
      "  got: 0.106\n",
      "  door: 0.103\n",
      "  looked: 0.095\n",
      "  knew: 0.091\n",
      "  went: 0.088\n",
      "\n",
      "Topic 3:\n",
      "  said: 0.239\n",
      "  state: 0.217\n",
      "  president: 0.165\n",
      "  government: 0.108\n",
      "  kennedy: 0.106\n",
      "  united: 0.101\n",
      "  house: 0.099\n",
      "  tax: 0.096\n",
      "\n",
      "Topic 4:\n",
      "  temperature: 0.155\n",
      "  water: 0.144\n",
      "  surface: 0.135\n",
      "  cost: 0.116\n",
      "  rate: 0.110\n",
      "  used: 0.104\n",
      "  area: 0.099\n",
      "  inch: 0.094\n",
      "\n",
      "Topic 5:\n",
      "  school: 0.319\n",
      "  student: 0.218\n",
      "  college: 0.202\n",
      "  child: 0.163\n",
      "  miss: 0.156\n",
      "  university: 0.119\n",
      "  year: 0.107\n",
      "  education: 0.105\n",
      "\n",
      "Topic 6:\n",
      "  music: 0.222\n",
      "  song: 0.144\n",
      "  york: 0.137\n",
      "  new york: 0.136\n",
      "  war: 0.119\n",
      "  season: 0.116\n",
      "  jazz: 0.113\n",
      "  new: 0.112\n",
      "\n",
      "Topic 7:\n",
      "  church: 0.528\n",
      "  god: 0.231\n",
      "  john: 0.171\n",
      "  christian: 0.158\n",
      "  christ: 0.145\n",
      "  river: 0.124\n",
      "  catholic: 0.122\n",
      "  water: 0.108\n",
      "\n",
      "Topic 8:\n",
      "  school: 0.255\n",
      "  college: 0.250\n",
      "  student: 0.247\n",
      "  child: 0.159\n",
      "  teacher: 0.131\n",
      "  education: 0.112\n",
      "  president: 0.109\n",
      "  war: 0.105\n",
      "\n",
      "Topic 9:\n",
      "  ship: 0.150\n",
      "  captain: 0.142\n",
      "  poem: 0.134\n",
      "  school: 0.127\n",
      "  wrote: 0.127\n",
      "  court: 0.124\n",
      "  north: 0.123\n",
      "  state: 0.115\n",
      "\n",
      "Topic 10:\n",
      "  president: 0.197\n",
      "  cell: 0.176\n",
      "  kennedy: 0.134\n",
      "  john: 0.132\n",
      "  temperature: 0.129\n",
      "  trial: 0.114\n",
      "  house: 0.113\n",
      "  fig: 0.110\n"
     ]
    }
   ],
   "source": [
    "# Display LSA topics\n",
    "display_topics(lsa_model, feature_names, n_top_words=8, model_name=\"LSA\")"
   ]
  },
  {
   "attachments": {},
   "cell_type": "markdown",
   "id": "4d94d56f",
   "metadata": {},
   "source": [
    "Q: How does your five-topic LSA model compare to the original Brown categories? \n",
    "\n",
    "A:LSA model yields more abstract and diffuse topics compared to NMF. While some dominant terms are interpretable, the topics often blend content from multiple Brown categories. This is likely due to LSA’s reliance on singular value decomposition, which captures deeper semantic patterns but may sacrifice sharp topical boundaries.There is still plenty of overlap between the topics to the point where it makes sense"
   ]
  },
  {
   "cell_type": "code",
   "execution_count": 12,
   "id": "7c8c8eb0",
   "metadata": {},
   "outputs": [
    {
     "name": "stdout",
     "output_type": "stream",
     "text": [
      "Creating count matrix for LDA...\n",
      "Count matrix shape: (500, 1000)\n",
      "Vocabulary size: 1000\n"
     ]
    }
   ],
   "source": [
    "# Create count vectorizer for LDA\n",
    "print(\"Creating count matrix for LDA...\")\n",
    "\n",
    "count_vectorizer = CountVectorizer(\n",
    "    max_features=max_features,\n",
    "    min_df=min_df,\n",
    "    max_df=max_df,\n",
    "    ngram_range=(1, 1),  # Only unigrams for LDA\n",
    "    stop_words='english'\n",
    ")\n",
    "\n",
    "count_matrix = count_vectorizer.fit_transform(documents)\n",
    "count_feature_names = count_vectorizer.get_feature_names_out()\n",
    "\n",
    "print(f\"Count matrix shape: {count_matrix.shape}\")\n",
    "print(f\"Vocabulary size: {len(count_feature_names)}\")"
   ]
  },
  {
   "cell_type": "code",
   "execution_count": 13,
   "id": "00b53d3d",
   "metadata": {},
   "outputs": [
    {
     "name": "stdout",
     "output_type": "stream",
     "text": [
      "Setting up LDA model with scikit-learn parameter names...\n"
     ]
    }
   ],
   "source": [
    "# Note: LDA parameter names in scikit-learn:\n",
    "# - doc_topic_prior (equivalent to alpha in other LDA implementations)\n",
    "# - topic_word_prior (equivalent to beta in other LDA implementations)\n",
    "print(\"Setting up LDA model with scikit-learn parameter names...\")"
   ]
  },
  {
   "cell_type": "code",
   "execution_count": 14,
   "id": "377a886e",
   "metadata": {},
   "outputs": [
    {
     "name": "stdout",
     "output_type": "stream",
     "text": [
      "Fitting LDA model...\n",
      "LDA model fitted successfully!\n",
      "Document-topic matrix shape: (500, 10)\n",
      "Log likelihood: -1349423.40\n"
     ]
    }
   ],
   "source": [
    "# Fit LDA model\n",
    "print(\"Fitting LDA model...\")\n",
    "\n",
    "# Create LDA model with correct parameter names\n",
    "lda_model = LatentDirichletAllocation(\n",
    "    n_components=n_topics,\n",
    "    random_state=random_state,\n",
    "    doc_topic_prior=0.1,  # Document-topic concentration (alpha)\n",
    "    topic_word_prior=0.01,  # Topic-word concentration (beta)\n",
    "    max_iter=100,\n",
    "    learning_method='batch'\n",
    ")\n",
    "\n",
    "lda_topics = lda_model.fit_transform(count_matrix)\n",
    "\n",
    "print(f\"LDA model fitted successfully!\")\n",
    "print(f\"Document-topic matrix shape: {lda_topics.shape}\")\n",
    "print(f\"Log likelihood: {lda_model.score(count_matrix):.2f}\")"
   ]
  },
  {
   "attachments": {},
   "cell_type": "markdown",
   "id": "ea8b280a",
   "metadata": {},
   "source": [
    "Q: What is your interpretation of the display topics output? \n",
    "\n",
    "A: "
   ]
  },
  {
   "attachments": {},
   "cell_type": "markdown",
   "id": "b4ab4d29",
   "metadata": {},
   "source": [
    "## Fitting an LDA Model\n",
    "\n",
    "Finally, fit a five-topic LDA model using the count vectors (`count_text_vectors` from above). Display the results using `pyLDAvis.display` and describe what you learn from that visualization. "
   ]
  },
  {
   "cell_type": "code",
   "execution_count": 15,
   "id": "802cb8ff",
   "metadata": {},
   "outputs": [
    {
     "name": "stdout",
     "output_type": "stream",
     "text": [
      "\n",
      "=== LDA Topics ===\n",
      "\n",
      "Topic 1:\n",
      "  state: 432.106\n",
      "  american: 424.916\n",
      "  new: 378.099\n",
      "  war: 325.430\n",
      "  world: 314.153\n",
      "  nation: 313.582\n",
      "  country: 306.268\n",
      "  president: 262.064\n",
      "\n",
      "Topic 2:\n",
      "  church: 415.436\n",
      "  john: 285.790\n",
      "  god: 281.704\n",
      "  men: 229.532\n",
      "  new: 219.670\n",
      "  man: 159.011\n",
      "  day: 158.550\n",
      "  town: 157.276\n",
      "\n",
      "Topic 3:\n",
      "  fact: 327.041\n",
      "  social: 326.241\n",
      "  life: 321.778\n",
      "  people: 310.277\n",
      "  experience: 303.220\n",
      "  man: 284.038\n",
      "  way: 277.526\n",
      "  world: 262.352\n",
      "\n",
      "Topic 4:\n",
      "  used: 159.374\n",
      "  form: 154.279\n",
      "  trial: 137.409\n",
      "  feed: 126.557\n",
      "  section: 119.051\n",
      "  cell: 108.077\n",
      "  word: 101.458\n",
      "  list: 99.619\n",
      "\n",
      "Topic 5:\n",
      "  water: 356.815\n",
      "  foot: 297.687\n",
      "  hand: 234.018\n",
      "  car: 227.487\n",
      "  long: 201.312\n",
      "  way: 192.796\n",
      "  head: 186.905\n",
      "  road: 185.661\n",
      "\n",
      "Topic 6:\n",
      "  school: 667.106\n",
      "  year: 466.676\n",
      "  child: 395.561\n",
      "  college: 308.010\n",
      "  student: 300.586\n",
      "  said: 262.352\n",
      "  new: 259.409\n",
      "  home: 242.418\n",
      "\n",
      "Topic 7:\n",
      "  art: 224.203\n",
      "  new: 216.423\n",
      "  music: 209.612\n",
      "  work: 186.030\n",
      "  line: 156.800\n",
      "  poet: 144.010\n",
      "  year: 134.724\n",
      "  poem: 130.010\n",
      "\n",
      "Topic 8:\n",
      "  said: 1545.323\n",
      "  like: 970.254\n",
      "  man: 830.017\n",
      "  know: 585.015\n",
      "  little: 498.512\n",
      "  day: 488.740\n",
      "  got: 466.814\n",
      "  eye: 465.479\n",
      "\n",
      "Topic 9:\n",
      "  used: 223.901\n",
      "  number: 197.056\n",
      "  type: 185.663\n",
      "  surface: 166.559\n",
      "  material: 164.427\n",
      "  area: 163.749\n",
      "  temperature: 161.010\n",
      "  value: 147.667\n",
      "\n",
      "Topic 10:\n",
      "  state: 848.864\n",
      "  year: 473.993\n",
      "  cost: 323.088\n",
      "  service: 320.648\n",
      "  program: 319.653\n",
      "  government: 274.050\n",
      "  business: 272.903\n",
      "  new: 249.462\n"
     ]
    }
   ],
   "source": [
    "# Display LDA topics\n",
    "display_topics(lda_model, count_feature_names, n_top_words=8, model_name=\"LDA\")"
   ]
  },
  {
   "cell_type": "code",
   "execution_count": 16,
   "id": "ab18adf5",
   "metadata": {},
   "outputs": [
    {
     "name": "stdout",
     "output_type": "stream",
     "text": [
      "Topic assignment comparison:\n",
      "  document_id true_category  nmf_topic  lsa_topic  lda_topic\n",
      "0        cn01     adventure          0          0          7\n",
      "1        cn02     adventure          7          0          7\n",
      "2        cn03     adventure          7          0          7\n",
      "3        cn04     adventure          7          0          7\n",
      "4        cn05     adventure          0          0          7\n",
      "5        cn06     adventure          7          0          7\n",
      "6        cn07     adventure          7          0          7\n",
      "7        cn08     adventure          7          0          7\n",
      "8        cn09     adventure          0          0          7\n",
      "9        cn10     adventure          0          0          7\n"
     ]
    }
   ],
   "source": [
    "# Create a comparison of topic assignments\n",
    "def get_dominant_topic(doc_topic_matrix):\n",
    "    \"\"\"\n",
    "    Get the dominant topic for each document.\n",
    "    \"\"\"\n",
    "    return np.argmax(doc_topic_matrix, axis=1)\n",
    "\n",
    "# Get dominant topics for each model\n",
    "nmf_dominant_topics = get_dominant_topic(nmf_topics)\n",
    "lsa_dominant_topics = get_dominant_topic(lsa_topics)\n",
    "lda_dominant_topics = get_dominant_topic(lda_topics)\n",
    "\n",
    "# Create comparison DataFrame\n",
    "comparison_df = pd.DataFrame({\n",
    "    'document_id': document_ids,\n",
    "    'true_category': document_categories,\n",
    "    'nmf_topic': nmf_dominant_topics,\n",
    "    'lsa_topic': lsa_dominant_topics,\n",
    "    'lda_topic': lda_dominant_topics\n",
    "})\n",
    "\n",
    "print(\"Topic assignment comparison:\")\n",
    "print(comparison_df.head(10))"
   ]
  },
  {
   "attachments": {},
   "cell_type": "markdown",
   "id": "f2c67876",
   "metadata": {},
   "source": [
    "Q: What inference do you draw from the displayed topics for your LDA model? \n",
    "\n",
    "A: The LDA model appears to consistently assign all adventure documents to Topic 7, suggesting that it has identified a coherent and distinct pattern of language use specific to that category. This indicates that LDA is capable of capturing genre-specific term distributions when such patterns are strong and consistent across documents. It also highlights LDA's strength in handling overlapping themes, since other categories (not shown here) may share topics if their language usage is less distinctive.\n",
    "\n",
    "Q: Repeat the tallying of Brown categories within your topics. How does your five-topic LDA model compare to the original Brown categories? \n",
    "\n",
    "A: Despite using only five topics, the LDA model successfully captures dominant trends for some categories such as grouping most adventure documents into a single topic. However, due to the limited number of topics, other genres may be blended together, reducing the clarity of category separation. Overall, the five-topic LDA model provides a useful approximation of thematic structure in the corpus, but it does not fully replicate the Brown categories, which are more granular and numerous than the topic count allows. This mismatch is a reminder that unsupervised models prioritize patterns in word usage, not external labels."
   ]
  },
  {
   "cell_type": "code",
   "execution_count": 17,
   "id": "6aae75ca",
   "metadata": {},
   "outputs": [
    {
     "name": "stdout",
     "output_type": "stream",
     "text": [
      "\n",
      "Topic distribution analysis:\n",
      "\n",
      "NMF Topic Distribution by Category:\n",
      "nmf_topic         0   1   2   3  4   5   6   7   8   9\n",
      "true_category                                         \n",
      "adventure        11   0   0   0  0   0   0  18   0   0\n",
      "belles_lettres    5  10  31   1  5  10   2   6   0   5\n",
      "editorial         1  14   0   0  2   3   3   0   1   3\n",
      "fiction          14   0   0   0  0   2   3  10   0   0\n",
      "government        0   7   1   3  1   0   0   0  16   2\n",
      "hobbies           0   1   0  12  4   5   0   4  10   0\n",
      "humor             6   0   0   0  0   2   0   0   0   1\n",
      "learned           0   4  18  38  6   1   0   1   9   3\n",
      "lore              1   5   9   4  7   4   4   7   4   3\n",
      "mystery          18   0   0   0  0   0   0   6   0   0\n",
      "news              0   4   0   0  7  11   2   1   7  12\n",
      "religion          0   0   5   0  0   0  11   1   0   0\n",
      "reviews           0   2   1   1  0  13   0   0   0   0\n",
      "romance          22   0   0   0  1   0   1   4   1   0\n",
      "science_fiction   3   0   2   0  0   0   1   0   0   0\n",
      "\n",
      "LSA Topic Distribution by Category:\n",
      "lsa_topic         0  2   3  4  5  6  7  8  9\n",
      "true_category                               \n",
      "adventure        29  0   0  0  0  0  0  0  0\n",
      "belles_lettres   74  0   0  0  0  0  1  0  0\n",
      "editorial        27  0   0  0  0  0  0  0  0\n",
      "fiction          27  0   0  0  0  2  0  0  0\n",
      "government       22  3   3  1  0  0  0  1  0\n",
      "hobbies          26  0   9  1  0  0  0  0  0\n",
      "humor             9  0   0  0  0  0  0  0  0\n",
      "learned          46  1  23  4  0  0  1  2  3\n",
      "lore             42  0   0  2  0  3  1  0  0\n",
      "mystery          24  0   0  0  0  0  0  0  0\n",
      "news             43  1   0  0  0  0  0  0  0\n",
      "religion         14  0   0  0  0  3  0  0  0\n",
      "reviews          16  0   0  0  1  0  0  0  0\n",
      "romance          29  0   0  0  0  0  0  0  0\n",
      "science_fiction   6  0   0  0  0  0  0  0  0\n",
      "\n",
      "LDA Topic Distribution by Category:\n",
      "lda_topic         0  1   2  3   4   5   6   7   8   9\n",
      "true_category                                        \n",
      "adventure         0  0   0  0   2   0   0  27   0   0\n",
      "belles_lettres    6  7  34  0   3   2   2  21   0   0\n",
      "editorial        17  1   1  0   0   0   1   4   0   3\n",
      "fiction           0  0   0  0   1   0   0  28   0   0\n",
      "government        4  0   2  0   1   1   1   0   2  19\n",
      "hobbies           2  1   2  2  15   3   2   1   3   5\n",
      "humor             0  0   0  0   0   0   1   8   0   0\n",
      "learned           2  1  26  5   3   1   3   0  29  10\n",
      "lore              2  6  13  1   4   9   1   9   1   2\n",
      "mystery           0  0   0  0   3   0   0  21   0   0\n",
      "news              7  0   1  0   1  24   0   0   0  11\n",
      "religion          0  4  10  0   1   0   0   2   0   0\n",
      "reviews           1  0   2  0   1   1  10   1   1   0\n",
      "romance           0  0   0  0   0   0   0  29   0   0\n",
      "science_fiction   0  0   1  0   0   0   0   5   0   0\n"
     ]
    }
   ],
   "source": [
    "# Analyze topic distribution by true categories\n",
    "print(\"\\nTopic distribution analysis:\")\n",
    "\n",
    "for model_name, topic_col in [('NMF', 'nmf_topic'), ('LSA', 'lsa_topic'), ('LDA', 'lda_topic')]:\n",
    "    print(f\"\\n{model_name} Topic Distribution by Category:\")\n",
    "    topic_category_crosstab = pd.crosstab(comparison_df['true_category'], comparison_df[topic_col])\n",
    "    print(topic_category_crosstab)"
   ]
  },
  {
   "cell_type": "code",
   "execution_count": 18,
   "id": "2a89fc15",
   "metadata": {},
   "outputs": [
    {
     "data": {
      "image/png": "[encoded data removed]",
      "text/plain": [
       "<Figure size 1800x600 with 3 Axes>"
      ]
     },
     "metadata": {},
     "output_type": "display_data"
    }
   ],
   "source": [
    "# Visualize topic distributions\n",
    "fig, axes = plt.subplots(1, 3, figsize=(18, 6))\n",
    "\n",
    "models = [('NMF', nmf_topics), ('LSA', lsa_topics), ('LDA', lda_topics)]\n",
    "\n",
    "for idx, (model_name, topic_matrix) in enumerate(models):\n",
    "    # Calculate average topic weights\n",
    "    avg_topic_weights = np.mean(topic_matrix, axis=0)\n",
    "    \n",
    "    axes[idx].bar(range(len(avg_topic_weights)), avg_topic_weights)\n",
    "    axes[idx].set_title(f'{model_name} Average Topic Weights')\n",
    "    axes[idx].set_xlabel('Topic')\n",
    "    axes[idx].set_ylabel('Average Weight')\n",
    "    axes[idx].set_xticks(range(len(avg_topic_weights)))\n",
    "\n",
    "plt.tight_layout()\n",
    "plt.show()"
   ]
  },
  {
   "attachments": {},
   "cell_type": "markdown",
   "id": "a3d14c87",
   "metadata": {},
   "source": [
    "Q: What conclusions do you draw from the visualization above? Please address the principal component scatterplot and the salient terms graph.\n",
    "\n",
    "A: The visualizations compare the average topic weights across NMF, LSA, and LDA models. The NMF model distributes topic weights relatively evenly, suggesting that all topics contribute somewhat consistently across documents. The LSA model, however, is dominated by a single component (Topic 0), with most others contributing minimally or even negatively—this reflects LSA’s tendency to concentrate variance in the first singular vectors, which may obscure less prominent themes. The LDA model exhibits clearer differentiation across topics, with Topic 7 standing out—likely corresponding to a strong thematic pattern such as the “adventure” genre mentioned earlier.\n",
    "\n",
    "From the principal component scatterplot (assumed to be provided elsewhere), if documents form distinct clusters, this would indicate that the topic model successfully separates different themes or categories. Overlapping clusters would suggest thematic blending. The salient terms graph would highlight the most discriminative words per topic, providing insight into what each topic represents. Together, these tools help validate whether the model has captured interpretable and distinct latent structures in the data.\n"
   ]
  }
 ],
 "metadata": {
  "kernelspec": {
   "display_name": "Python 3 (ipykernel)",
   "language": "python",
   "name": "python3"
  },
  "language_info": {
   "codemirror_mode": {
    "name": "ipython",
    "version": 3
   },
   "file_extension": ".py",
   "mimetype": "text/x-python",
   "name": "python",
   "nbconvert_exporter": "python",
   "pygments_lexer": "ipython3",
   "version": "3.11.5"
  }
 },
 "nbformat": 4,
 "nbformat_minor": 5
}
